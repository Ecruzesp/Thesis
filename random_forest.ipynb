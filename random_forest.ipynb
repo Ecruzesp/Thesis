{
 "cells": [
  {
   "cell_type": "code",
   "execution_count": 1,
   "metadata": {
    "id": "JDimtt9NL7RF"
   },
   "outputs": [],
   "source": [
    "import numpy as np \n",
    "import matplotlib.pyplot as plt\n",
    "import glob\n",
    "import cv2 as cv\n",
    "import os\n",
    "import seaborn as sns\n",
    "import pandas as pd\n",
    "from skimage import filters\n",
    "from skimage.filters import sobel\n",
    "from skimage.filters.rank import entropy\n",
    "from skimage.filters import roberts\n",
    "from skimage.filters import scharr\n",
    "from skimage.filters import prewitt\n",
    "from skimage.morphology import disk"
   ]
  },
  {
   "cell_type": "code",
   "execution_count": 2,
   "metadata": {
    "colab": {
     "base_uri": "https://localhost:8080/"
    },
    "id": "VGvf2jcZL9N3",
    "outputId": "53e39bd8-0dd3-44b6-874d-db08b163ff37"
   },
   "outputs": [
    {
     "name": "stdout",
     "output_type": "stream",
     "text": [
      "['Test', 'Train', 'Validation']\n"
     ]
    }
   ],
   "source": [
    "print(os.listdir(\"C:/Users/Emanuel de la Cruz E/OneDrive - Instituto Tecnologico y de Estudios Superiores de Monterrey/Thesis/Images/kaggle/two_classes\"))"
   ]
  },
  {
   "cell_type": "code",
   "execution_count": 3,
   "metadata": {
    "id": "ejpS0mJfsPz_"
   },
   "outputs": [],
   "source": [
    "#Capture images and labels into arrays.\n",
    "#Start by creating empty lists.\n",
    "train_images = []\n",
    "train_labels = []\n",
    "for directory_path in glob.glob(\"C:/Users/Emanuel de la Cruz E/OneDrive - Instituto Tecnologico y de Estudios Superiores de Monterrey/Thesis/Images/kaggle/two_classes/Train/*\"):\n",
    "    label = directory_path.split(\"/\")[-1]    \n",
    "    for img_path in glob.glob(os.path.join(directory_path, \"*.jpeg\")):\n",
    "        img = cv.imread(img_path, cv.IMREAD_COLOR)\n",
    "        train_images.append(img)\n",
    "        train_labels.append(label)\n",
    "        \n",
    "train_images = np.array(train_images)\n",
    "train_labels = np.array(train_labels)"
   ]
  },
  {
   "cell_type": "code",
   "execution_count": 15,
   "metadata": {
    "colab": {
     "base_uri": "https://localhost:8080/"
    },
    "id": "q0W8VHxRuHO2",
    "outputId": "24fcce71-3e49-4088-c1e5-90140a82c92f"
   },
   "outputs": [
    {
     "name": "stdout",
     "output_type": "stream",
     "text": [
      "(762, 128, 128, 3)\n",
      "(762,)\n"
     ]
    }
   ],
   "source": [
    "print(np.shape(train_images))\n",
    "print(np.shape(train_labels))"
   ]
  },
  {
   "cell_type": "code",
   "execution_count": 4,
   "metadata": {
    "id": "gcT0kb_qVs44"
   },
   "outputs": [],
   "source": [
    "test_images = []\n",
    "test_labels = [] \n",
    "for directory_path in glob.glob(\"C:/Users/Emanuel de la Cruz E/OneDrive - Instituto Tecnologico y de Estudios Superiores de Monterrey/Thesis/Images/kaggle/two_classes/Test/*\"):\n",
    "    label = directory_path.split(\"/\")[-1]\n",
    "    for img_path in glob.glob(os.path.join(directory_path, \"*.jpeg\")):\n",
    "        img = cv.imread(img_path, cv.IMREAD_COLOR)\n",
    "        test_images.append(img)\n",
    "        test_labels.append(label)\n",
    "        \n",
    "test_images = np.array(test_images)\n",
    "test_labels = np.array(test_labels)"
   ]
  },
  {
   "cell_type": "code",
   "execution_count": 17,
   "metadata": {
    "colab": {
     "base_uri": "https://localhost:8080/"
    },
    "id": "FPMW_7hq1iNQ",
    "outputId": "b1b191b8-841b-410d-9aac-d37f4ffaa432"
   },
   "outputs": [
    {
     "name": "stdout",
     "output_type": "stream",
     "text": [
      "(164, 128, 128, 3)\n",
      "(164,)\n"
     ]
    }
   ],
   "source": [
    "print(np.shape(test_images))\n",
    "print(np.shape(test_labels))"
   ]
  },
  {
   "cell_type": "code",
   "execution_count": 5,
   "metadata": {
    "id": "lCPTi1s1KdOq"
   },
   "outputs": [],
   "source": [
    "validation_images = []\n",
    "validation_labels = [] \n",
    "for directory_path in glob.glob(\"C:/Users/Emanuel de la Cruz E/OneDrive - Instituto Tecnologico y de Estudios Superiores de Monterrey/Thesis/Images/kaggle/two_classes/Validation/*\"):\n",
    "    label = directory_path.split(\"/\")[-1]\n",
    "    for img_path in glob.glob(os.path.join(directory_path, \"*.jpeg\")):\n",
    "        img = cv.imread(img_path, cv.IMREAD_COLOR)\n",
    "        validation_images.append(img)\n",
    "        validation_labels.append(label)\n",
    "        \n",
    "validation_images = np.array(test_images)\n",
    "validation_labels = np.array(test_labels)"
   ]
  },
  {
   "cell_type": "code",
   "execution_count": 19,
   "metadata": {
    "colab": {
     "base_uri": "https://localhost:8080/"
    },
    "id": "6vsqmZsRKpNi",
    "outputId": "142882ae-49f1-4356-d8d4-ec0b79fbbdb4"
   },
   "outputs": [
    {
     "name": "stdout",
     "output_type": "stream",
     "text": [
      "(164, 128, 128, 3)\n",
      "(164,)\n"
     ]
    }
   ],
   "source": [
    "print(np.shape(validation_images))\n",
    "print(np.shape(validation_labels))"
   ]
  },
  {
   "cell_type": "code",
   "execution_count": 6,
   "metadata": {
    "id": "aDPO6i1RVxQF"
   },
   "outputs": [],
   "source": [
    "# Encode labels from text (folder names) to integers.\n",
    "from sklearn import preprocessing\n",
    "le = preprocessing.LabelEncoder()\n",
    "le.fit(train_labels)\n",
    "train_labels_encoded = le.transform(train_labels)\n",
    "le.fit(test_labels)\n",
    "test_labels_encoded = le.transform(test_labels)\n",
    "le.fit(validation_labels)\n",
    "validation_labels_encoded = le.transform(validation_labels)"
   ]
  },
  {
   "cell_type": "code",
   "execution_count": 21,
   "metadata": {
    "colab": {
     "base_uri": "https://localhost:8080/"
    },
    "id": "Uz25mRCl2OSC",
    "outputId": "d7575ee6-8642-4067-f1e2-5970ef3ec3dd"
   },
   "outputs": [
    {
     "name": "stdout",
     "output_type": "stream",
     "text": [
      "[0 0 0 0 0 0 0 0 0 0 0 0 0 0 0 0 0 0 0 0 0 0 0 0 0 0 0 0 0 0 0 0 0 0 0 0 0\n",
      " 0 0 0 0 0 0 0 0 0 0 0 0 0 0 0 0 0 0 0 0 0 0 0 0 0 0 0 0 0 0 0 0 0 0 0 0 0\n",
      " 0 0 0 0 0 0 0 0 0 0 0 0 0 0 0 0 0 0 0 0 0 0 0 0 0 0 0 0 0 0 0 0 0 0 0 0 0\n",
      " 0 0 0 0 0 0 0 0 0 0 0 0 0 0 0 0 0 0 0 0 0 0 0 0 0 0 0 0 0 0 0 0 0 0 0 0 0\n",
      " 0 0 0 0 0 0 0 0 0 0 0 0 0 0 0 0 0 0 0 0 0 0 0 0 0 0 0 0 0 0 0 0 0 0 0 0 0\n",
      " 0 0 0 0 0 0 0 0 0 0 0 0 0 0 0 0 0 0 0 0 0 0 0 0 0 0 0 0 0 0 0 0 0 0 0 0 0\n",
      " 0 0 0 0 0 0 0 0 0 0 0 0 0 0 0 0 0 0 0 0 0 0 0 0 0 0 0 0 0 0 0 0 0 0 0 0 0\n",
      " 0 0 0 0 0 0 0 0 0 0 0 0 0 0 0 0 0 0 0 0 0 0 0 0 0 0 0 0 0 0 0 0 0 0 0 0 0\n",
      " 0 0 0 0 0 0 0 0 0 0 0 0 0 0 0 0 0 0 0 0 0 0 0 0 0 0 0 0 0 0 0 0 0 0 0 0 0\n",
      " 0 0 0 0 0 0 0 0 0 0 0 0 0 0 0 0 0 0 0 0 0 0 0 0 0 0 0 0 0 0 0 0 0 0 0 0 0\n",
      " 0 0 0 0 0 0 0 0 0 0 0 1 1 1 1 1 1 1 1 1 1 1 1 1 1 1 1 1 1 1 1 1 1 1 1 1 1\n",
      " 1 1 1 1 1 1 1 1 1 1 1 1 1 1 1 1 1 1 1 1 1 1 1 1 1 1 1 1 1 1 1 1 1 1 1 1 1\n",
      " 1 1 1 1 1 1 1 1 1 1 1 1 1 1 1 1 1 1 1 1 1 1 1 1 1 1 1 1 1 1 1 1 1 1 1 1 1\n",
      " 1 1 1 1 1 1 1 1 1 1 1 1 1 1 1 1 1 1 1 1 1 1 1 1 1 1 1 1 1 1 1 1 1 1 1 1 1\n",
      " 1 1 1 1 1 1 1 1 1 1 1 1 1 1 1 1 1 1 1 1 1 1 1 1 1 1 1 1 1 1 1 1 1 1 1 1 1\n",
      " 1 1 1 1 1 1 1 1 1 1 1 1 1 1 1 1 1 1 1 1 1 1 1 1 1 1 1 1 1 1 1 1 1 1 1 1 1\n",
      " 1 1 1 1 1 1 1 1 1 1 1 1 1 1 1 1 1 1 1 1 1 1 1 1 1 1 1 1 1 1 1 1 1 1 1 1 1\n",
      " 1 1 1 1 1 1 1 1 1 1 1 1 1 1 1 1 1 1 1 1 1 1 1 1 1 1 1 1 1 1 1 1 1 1 1 1 1\n",
      " 1 1 1 1 1 1 1 1 1 1 1 1 1 1 1 1 1 1 1 1 1 1 1 1 1 1 1 1 1 1 1 1 1 1 1 1 1\n",
      " 1 1 1 1 1 1 1 1 1 1 1 1 1 1 1 1 1 1 1 1 1 1 1 1 1 1 1 1 1 1 1 1 1 1 1 1 1\n",
      " 1 1 1 1 1 1 1 1 1 1 1 1 1 1 1 1 1 1 1 1 1 1]\n"
     ]
    }
   ],
   "source": [
    "print(train_labels_encoded)"
   ]
  },
  {
   "cell_type": "code",
   "execution_count": 7,
   "metadata": {
    "id": "_aJdpO0qV1XC"
   },
   "outputs": [],
   "source": [
    "#Split data into test and train datasets\n",
    "x_train, y_train, x_test, y_test, x_validation, y_validation = train_images, train_labels_encoded, test_images, test_labels_encoded, validation_images, validation_labels_encoded"
   ]
  },
  {
   "cell_type": "code",
   "execution_count": 8,
   "metadata": {
    "id": "QeLpKHu949MT"
   },
   "outputs": [],
   "source": [
    "# Normalize pixel values to between 0 and 1\n",
    "x_train, x_test, x_validation = x_train / 255.0, x_test / 255.0, x_validation / 255.0"
   ]
  },
  {
   "cell_type": "code",
   "execution_count": 24,
   "metadata": {
    "colab": {
     "base_uri": "https://localhost:8080/"
    },
    "id": "tcYq5LNX8Zun",
    "outputId": "4e9893ca-5afd-422c-c483-28187fb97203"
   },
   "outputs": [
    {
     "name": "stdout",
     "output_type": "stream",
     "text": [
      "(762, 128, 128, 3)\n"
     ]
    }
   ],
   "source": [
    "print(np.shape(x_train))"
   ]
  },
  {
   "cell_type": "code",
   "execution_count": 9,
   "metadata": {},
   "outputs": [
    {
     "name": "stdout",
     "output_type": "stream",
     "text": [
      "762\n"
     ]
    }
   ],
   "source": [
    "print(x_train.shape[0])"
   ]
  },
  {
   "cell_type": "code",
   "execution_count": 29,
   "metadata": {
    "id": "Nm70DuVmV5gm"
   },
   "outputs": [],
   "source": [
    "# FEATURE EXTRACTOR function\n",
    "# input shape is (n, x, y, c) - number of images, x, y, and channels\n",
    "def feature_extractor(dataset):\n",
    "    \n",
    "    image_dataset = pd.DataFrame()\n",
    "    \n",
    "    for image in range(dataset.shape[0]):  #iterate through each file \n",
    "        \n",
    "        df = pd.DataFrame()  #Temporary data frame to capture information for each loop.\n",
    "        #Reset dataframe to blank after each loop.\n",
    "        \n",
    "        input_img = dataset[image, :,:,:]\n",
    "        img = np.copy(input_img)\n",
    "        \n",
    "        \n",
    "        img_gray = cv.cvtColor(img, cv.COLOR_BGR2GRAY)\n",
    "\n",
    "        \n",
    "        Gray_copy = np.copy(img_gray)\n",
    "        Mean_copy = (1/3)*np.copy(img[:,:,0]) + (1/3)*np.copy(img[:,:,1]) + (1/3)*np.copy(img[:,:,2])\n",
    "        Mean_copy = Mean_copy.astype(np.uint8)\n",
    "        L_med_by = (np.copy(img[:,:,0]) + np.copy(img[:,:,1])) - 2*np.copy(img[:,:,0])\n",
    "        L_med_by = L_med_by.astype(np.uint8)\n",
    "        L_med_rg = (np.copy(img[:,:,2]) - np.copy(img[:,:,1]))\n",
    "        L_med_rg = L_med_rg.astype(np.uint8)\n",
    "        \n",
    "        \n",
    "        img_gray_med_blur = cv.medianBlur(Gray_copy, 3)        \n",
    "        img_mean_med_blur = cv.medianBlur(Mean_copy, 3)\n",
    "        img_by_med_blur = cv.medianBlur(L_med_by, 3)\n",
    "        img_rg_med_blur = cv.medianBlur(L_med_rg, 3)\n",
    "        \n",
    "        \n",
    "        thresh_mean_med, img_mean_med_ot = cv.threshold(img_mean_med_blur, 0,255, cv.THRESH_OTSU)\n",
    "        thresh_gray_median, img_gray_med_ot = cv.threshold(img_gray_med_blur, 0,255, cv.THRESH_OTSU)\n",
    "        thresh_by_med, img_by_med_ot = cv.threshold(img_by_med_blur, 0,255, cv.THRESH_OTSU)\n",
    "        thresh_rg_med, img_rg_med_ot = cv.threshold(img_rg_med_blur, 0,255, cv.THRESH_OTSU)\n",
    "        \n",
    "        \n",
    "        des_mean_med = np.std(img_mean_med_blur)\n",
    "        des_gray_med = np.std(img_gray_med_blur)\n",
    "        des_by_med = np.std(img_by_med_blur)\n",
    "        des_rg_med = np.std(img_rg_med_blur)\n",
    "        \n",
    "        \n",
    "        img_mean_med_entropy = entropy(img_mean_med_blur, disk(5))\n",
    "        img_gray_med_entropy = entropy(img_gray_med_blur, disk(5))\n",
    "        img_by_med_entropy = entropy(img_by_med_blur, disk(5))\n",
    "        img_rg_med_entropy = entropy(img_rg_med_blur, disk(5))\n",
    "        \n",
    "        \n",
    "        img_mean_med_canny = cv.Canny(img_mean_med_blur,thresh_mean_med-3*des_mean_med,thresh_mean_med+3*des_mean_med)\n",
    "        img_gray_med_canny = cv.Canny(img_gray_med_blur,thresh_gray_med-3*des_gray_med,thresh_gray_med+3*des_gray_med)\n",
    "        img_by_med_canny = cv.Canny(img_by_med_blur,thresh_by_med-3*des_by_med,thresh_by_med+3*des_by_med)\n",
    "        img_rg_med_canny = cv.Canny(img_rg_med_blur,thresh_rg_med-3*des_rg_med,thresh_rg_med+3*des_rg_med)\n",
    "        \n",
    "        \n",
    "        img_gray = Gray_copy.reshape(-1)\n",
    "        df[gray] = img_gray       \n",
    "        img_mean = Mean_copy.reshape(-1)\n",
    "        df[mean] = img_mean\n",
    "        img_gray_med_blur = img_gray_med_blur.reshape(-1)\n",
    "        df[gray_med_blur] = img_gray_med_blur\n",
    "        img_mean_med_blur = img_mean_med_blur.reshape(-1)\n",
    "        df[mean_med_blur] = img_mean_med_blur\n",
    "        img_mean_med_ot = img_mean_med_ot.reshape(-1)\n",
    "        df[Ot_mean_med_blur] = img_mean_med_ot\n",
    "        img_gray_med_ot = img_gray_med_ot.reshape(-1)\n",
    "        df[Ot_gray_med_blur] = img_gray_med_ot\n",
    "        img_mean_med_entropy = img_mean_med_entropy.reshape(-1)\n",
    "        df[entropy_Mean_med_blur] = img_mean_med_entropy\n",
    "        img_gray_med_entropy = img_gray_med_entropy.reshape(-1)\n",
    "        df[entropy_Gray_med_blur] = img_gray_med_entropy        \n",
    "        img_mean_med_canny = img_mean_med_canny.reshape(-1)\n",
    "        df[canny_Mean_med_blur] = img_mean_med_canny\n",
    "        img_gray_med_canny = img_gray_med_canny.reshape(-1)\n",
    "        df[canny_Gray_med_blur] = img_gray_med_canny\n",
    "        \n",
    "        \n",
    "        img_b_med_blur = cv.medianBlur(B_copy, 3)\n",
    "        img_g_med_blur = cv.medianBlur(G_copy, 3)\n",
    "        img_r_med_blur = cv.medianBlur(R_copy, 3)\n",
    "        \n",
    "        \n",
    "        thresh_b_med, img_b_med_ot = cv.threshold(img_b_med_blur, 0,255, cv.THRESH_OTSU)\n",
    "        thresh_g_med, img_g_med_ot = cv.threshold(img_g_med_blur, 0,255, cv.THRESH_OTSU)\n",
    "        thresh_r_med, img_r_med_ot = cv.threshold(img_r_med_blur, 0,255, cv.THRESH_OTSU)\n",
    "        \n",
    "        \n",
    "        des_b_med = np.std(img_b_med_blur)\n",
    "        des_g_med = np.std(img_g_med_blur)\n",
    "        des_r_med = np.std(img_r_med_blur)\n",
    "        \n",
    "        img_b_med_entropy = entropy(img_b_med_blur, disk(5))\n",
    "        img_g_med_entropy = entropy(img_g_med_blur, disk(5))\n",
    "        img_r_med_entropy = entropy(img_r_med_blur, disk(5))\n",
    "        \n",
    "        img_b_med_canny = cv.Canny(img_b_med_blur,thresh_b_med-3*des_b_med,thresh_b_med+3*des_b_med)\n",
    "        img_g_med_canny = cv.Canny(img_g_med_blur,thresh_g_med-3*des_g_med,thresh_g_med+3*des_g_med)\n",
    "        img_r_med_canny = cv.Canny(img_r_med_blur,thresh_r_med-3*des_r_med,thresh_r_med+3*des_r_med)\n",
    "        \n",
    "        img_b = B_copy.reshape(-1)\n",
    "        df[blue_channel] = img_b\n",
    "        \n",
    "        img_g = G_copy.reshape(-1)\n",
    "        df[green_channel] = img_g\n",
    "        \n",
    "        img_r = R_copy.reshape(-1)\n",
    "        df[red_channel] = img_r\n",
    "        \n",
    "        img_b_med_blur = img_b_med_blur.reshape(-1)\n",
    "        df[b_med_blur] = img_b_med_blur\n",
    "        \n",
    "        img_g_med_blur = img_g_med_blur.reshape(-1)\n",
    "        df[g_med_blur] = img_g_med_blur\n",
    "        \n",
    "        img_r_med_blur = img_r_med_blur.reshape(-1)\n",
    "        df[r_med_blur] = img_r_med_blur\n",
    "        \n",
    "        img_b_med_ot = img_b_med_ot.reshape(-1)\n",
    "        df[Ot_b_med_blur] = img_b_med_ot\n",
    "        \n",
    "        img_g_med_ot = img_g_med_ot.reshape(-1)\n",
    "        df[Ot_g_med_blur] = img_g_med_ot\n",
    "        \n",
    "        img_r_med_ot = img_r_med_ot.reshape(-1)\n",
    "        df[Ot_r_med_blur] = img_r_med_ot\n",
    "        \n",
    "        img_b_med_entropy = img_b_med_entropy.reshape(-1)\n",
    "        df[entropy_B_med_blur] = img_b_med_entropy\n",
    "        \n",
    "        img_g_med_entropy = img_g_med_entropy.reshape(-1)\n",
    "        df[entropy_G_med_blur] = img_g_med_entropy\n",
    "        \n",
    "        img_r_med_entropy = img_r_med_entropy.reshape(-1)\n",
    "        df[entropy_R_med_blur] = img_r_med_entropy\n",
    "        \n",
    "        img_b_med_canny = img_b_med_canny.reshape(-1)\n",
    "        df[canny_B_med_blur] = img_b_med_canny\n",
    "        \n",
    "        img_g_med_canny = img_g_med_canny.reshape(-1)\n",
    "        df[canny_G_med_blur] = img_g_med_canny\n",
    "        \n",
    "        img_r_med_canny = img_r_med_canny.reshape(-1)\n",
    "        df[canny_R_med_blur] = img_r_med_canny\n",
    "        \n",
    "    ################################################################\n",
    "    #START ADDING DATA TO THE DATAFRAME\n",
    "    #Add feature extractors, e.g. edge detection, smoothing, etc. \n",
    "\n",
    "        num = 1\n",
    "        for channel in range(3):\n",
    "            entropy_label = 'Entropy' + str(num)\n",
    "            pixel_value_label = 'Pixel_Value' + str(num)\n",
    "            sobel_label = 'Edge_Sobel' + str(num)\n",
    "            #med_blur_label = 'Med_blur' + str(num)\n",
    "\n",
    "            img2 = img[:,:,channel]\n",
    "    \n",
    "            img_blur = cv.medianBlur(img2, 3)\n",
    "    \n",
    "            entropy_img = entropy(img_blur, disk(5))\n",
    "            entropy_fil = entropy_img.reshape(-1)\n",
    "          \n",
    "            sobel_img = sobel(img_blur)\n",
    "            sobel_fil = sobel_img.reshape(-1)\n",
    "\n",
    "            canny_img = cv.Canny(img_blur,thresh_Mean_Median-3*des_Mean_Median,thresh_Mean_Median+3*des_Mean_Median)  \n",
    "        \n",
    "            pixel_values = img2.reshape(-1)\n",
    "\n",
    "            #med_blur = cv.medianBlur(img2, 3)\n",
    "            #median_fil = med_blur.reshape(-1)\n",
    "          \n",
    "            df[entropy_label] = entropy_fil\n",
    "            df[pixel_value_label] = pixel_values\n",
    "            df[sobel_label] = sobel_fil\n",
    "            #df[med_blur_label] = median_fil\n",
    "\n",
    "            num += 1\n",
    "\n",
    "            image_dataset = image_dataset.append(df)\n",
    "        \n",
    "    return image_dataset\n",
    "\n",
    "        # FEATURE 2 - Bunch of Gabor filter responses\n",
    "\n",
    "\n",
    "        #Gabor filter parameters\n",
    "#\t      ksize = 100 \n",
    "#\t      phi = 0\n",
    "#\t      num = 1\n",
    "#        kernels = []\n",
    "#        for theta in range(2):\n",
    "#          theta = theta/4.*np.pi\n",
    "#          for sigma in (3,5):\n",
    "#            for lamda in np.arange(0, np.pi, np.pi/4.):\n",
    "#              for gamma in (0.05, 0.5):\n",
    "#                gabor_label = 'Gabor'+ str(num)\n",
    "#                kernel = cv2.getGaborKernel((ksize, ksize), sigma, theta, lamda, gamma, phi, ktype=cv.CV_32F)\n",
    "#                kernels.append(kernel)\n",
    "#                fimg = cv2.filter2D(img, cv.CV_8UC3, kernel)\n",
    "#                filtered_img = fimg.reshape(-1)\n",
    "#                df[gabor_label] = filtered_img\n",
    "#                num += 1\n",
    "        \n",
    "       \n",
    "        #Generate Gabor features\n",
    "#        ksize=9\n",
    "#        phi = 0\n",
    "#        num = 1  #To count numbers up in order to give Gabor features a lable in the data frame\n",
    "#        kernels = []\n",
    "#        for theta in range(2):   #Define number of thetas\n",
    "#            theta = theta / 4. * np.pi\n",
    "#            for sigma in (3, 5):  #Sigma with 1 and 3\n",
    "#              lamda = np.pi/4\n",
    "#              gamma = 0.5\n",
    "#              gabor_label = 'Gabor' + str(num)  #Label Gabor columns as Gabor1, Gabor2, etc.\n",
    "    #                print(gabor_label) \n",
    "#              kernel = cv2.getGaborKernel((ksize, ksize), sigma, theta, lamda, gamma, phi, ktype=cv2.CV_32F)    \n",
    "#              kernels.append(kernel)\n",
    "                  #Now filter the image and add values to a new column \n",
    "#              fimg = cv2.filter2D(img, cv2.CV_8UC3, kernel)\n",
    "#              filtered_img = fimg.reshape(-1)\n",
    "#              df[gabor_label] = filtered_img  #Labels columns as Gabor1, Gabor2, etc.\n",
    "                  #print(gabor_label, ': theta=', theta, ': sigma=', sigma, ': lamda=', lamda, ': gamma=', gamma)\n",
    "#              num += 1  #Increment for gabor column label\n",
    "                \n",
    "\n",
    "        \n",
    "\t      #Entropy can be used as texture visualization filter\n",
    "##        entropy_img = entropy(img, disk(5))\n",
    "##        entropy1 = entropy_img.reshape(-1)\n",
    "##        df['Entropy'] = entropy1\n",
    "\n",
    "        #Median blur\n",
    "##        med_blur = cv2.medianBlur(img, 3)\n",
    "##        Median_blur1 = med_blur.reshape(-1)\n",
    "##        df['Median Blur'] = Median_blur1\n",
    "\n",
    "        #Gaussian\n",
    "#        blur = cv2.GaussianBlur(img, (5,5), cv2.BORDER_DEFAULT)\n",
    "#        Gaussian1 = blur.reshape(-1)\n",
    "#        df['Gaussian'] = Gaussian1\n",
    "        \n",
    "        #Append features from current image to the dataset\n",
    "#        image_dataset = image_dataset.append(df)\n",
    "        \n",
    "#    return image_dataset"
   ]
  },
  {
   "cell_type": "code",
   "execution_count": 30,
   "metadata": {
    "colab": {
     "base_uri": "https://localhost:8080/"
    },
    "id": "6KV9zZ_m9l72",
    "outputId": "7ab794d0-c8fc-422f-bf9f-04203d0e7e13"
   },
   "outputs": [
    {
     "name": "stderr",
     "output_type": "stream",
     "text": [
      "<ipython-input-30-489a0da672d8>:3: UserWarning: Possible precision loss converting image of type float64 to uint8 as required by rank filters. Convert manually using skimage.util.img_as_ubyte to silence this warning.\n",
      "  image_features = feature_extractor(x_train)\n"
     ]
    }
   ],
   "source": [
    "####################################################################\n",
    "#Extract features from training images\n",
    "image_features = feature_extractor(x_train)"
   ]
  },
  {
   "cell_type": "code",
   "execution_count": null,
   "metadata": {
    "id": "32TglKMVbmJq"
   },
   "outputs": [],
   "source": [
    "#Exportación de información\n",
    "#image_features.to_csv(\"/content/drive/MyDrive/Thesis/Datasets/train_reduced_set_features.csv\")"
   ]
  },
  {
   "cell_type": "code",
   "execution_count": 31,
   "metadata": {
    "colab": {
     "base_uri": "https://localhost:8080/",
     "height": 424
    },
    "id": "xfrNqFsfLSPL",
    "outputId": "5279eba5-2e64-4d0d-d4fe-3a025f7198d2"
   },
   "outputs": [
    {
     "data": {
      "text/html": [
       "<div>\n",
       "<style scoped>\n",
       "    .dataframe tbody tr th:only-of-type {\n",
       "        vertical-align: middle;\n",
       "    }\n",
       "\n",
       "    .dataframe tbody tr th {\n",
       "        vertical-align: top;\n",
       "    }\n",
       "\n",
       "    .dataframe thead th {\n",
       "        text-align: right;\n",
       "    }\n",
       "</style>\n",
       "<table border=\"1\" class=\"dataframe\">\n",
       "  <thead>\n",
       "    <tr style=\"text-align: right;\">\n",
       "      <th></th>\n",
       "      <th>Entropy1</th>\n",
       "      <th>Pixel_Value1</th>\n",
       "      <th>Edge_Sobel1</th>\n",
       "      <th>Entropy2</th>\n",
       "      <th>Pixel_Value2</th>\n",
       "      <th>Edge_Sobel2</th>\n",
       "      <th>Entropy3</th>\n",
       "      <th>Pixel_Value3</th>\n",
       "      <th>Edge_Sobel3</th>\n",
       "    </tr>\n",
       "  </thead>\n",
       "  <tbody>\n",
       "    <tr>\n",
       "      <th>0</th>\n",
       "      <td>2.150295</td>\n",
       "      <td>0.015686</td>\n",
       "      <td>0.002192</td>\n",
       "      <td>NaN</td>\n",
       "      <td>NaN</td>\n",
       "      <td>NaN</td>\n",
       "      <td>NaN</td>\n",
       "      <td>NaN</td>\n",
       "      <td>NaN</td>\n",
       "    </tr>\n",
       "    <tr>\n",
       "      <th>1</th>\n",
       "      <td>2.285655</td>\n",
       "      <td>0.015686</td>\n",
       "      <td>0.006278</td>\n",
       "      <td>NaN</td>\n",
       "      <td>NaN</td>\n",
       "      <td>NaN</td>\n",
       "      <td>NaN</td>\n",
       "      <td>NaN</td>\n",
       "      <td>NaN</td>\n",
       "    </tr>\n",
       "    <tr>\n",
       "      <th>2</th>\n",
       "      <td>2.428732</td>\n",
       "      <td>0.007843</td>\n",
       "      <td>0.003535</td>\n",
       "      <td>NaN</td>\n",
       "      <td>NaN</td>\n",
       "      <td>NaN</td>\n",
       "      <td>NaN</td>\n",
       "      <td>NaN</td>\n",
       "      <td>NaN</td>\n",
       "    </tr>\n",
       "    <tr>\n",
       "      <th>3</th>\n",
       "      <td>2.436959</td>\n",
       "      <td>0.011765</td>\n",
       "      <td>0.003100</td>\n",
       "      <td>NaN</td>\n",
       "      <td>NaN</td>\n",
       "      <td>NaN</td>\n",
       "      <td>NaN</td>\n",
       "      <td>NaN</td>\n",
       "      <td>NaN</td>\n",
       "    </tr>\n",
       "    <tr>\n",
       "      <th>4</th>\n",
       "      <td>2.449660</td>\n",
       "      <td>0.011765</td>\n",
       "      <td>0.005280</td>\n",
       "      <td>NaN</td>\n",
       "      <td>NaN</td>\n",
       "      <td>NaN</td>\n",
       "      <td>NaN</td>\n",
       "      <td>NaN</td>\n",
       "      <td>NaN</td>\n",
       "    </tr>\n",
       "    <tr>\n",
       "      <th>...</th>\n",
       "      <td>...</td>\n",
       "      <td>...</td>\n",
       "      <td>...</td>\n",
       "      <td>...</td>\n",
       "      <td>...</td>\n",
       "      <td>...</td>\n",
       "      <td>...</td>\n",
       "      <td>...</td>\n",
       "      <td>...</td>\n",
       "    </tr>\n",
       "    <tr>\n",
       "      <th>16379</th>\n",
       "      <td>3.159080</td>\n",
       "      <td>0.356863</td>\n",
       "      <td>0.004902</td>\n",
       "      <td>3.290550</td>\n",
       "      <td>0.478431</td>\n",
       "      <td>0.004902</td>\n",
       "      <td>3.585399</td>\n",
       "      <td>0.568627</td>\n",
       "      <td>0.004902</td>\n",
       "    </tr>\n",
       "    <tr>\n",
       "      <th>16380</th>\n",
       "      <td>3.181933</td>\n",
       "      <td>0.356863</td>\n",
       "      <td>0.005546</td>\n",
       "      <td>3.310884</td>\n",
       "      <td>0.478431</td>\n",
       "      <td>0.005546</td>\n",
       "      <td>3.573761</td>\n",
       "      <td>0.568627</td>\n",
       "      <td>0.005546</td>\n",
       "    </tr>\n",
       "    <tr>\n",
       "      <th>16381</th>\n",
       "      <td>3.122964</td>\n",
       "      <td>0.360784</td>\n",
       "      <td>0.008769</td>\n",
       "      <td>3.116775</td>\n",
       "      <td>0.482353</td>\n",
       "      <td>0.008769</td>\n",
       "      <td>3.381577</td>\n",
       "      <td>0.572549</td>\n",
       "      <td>0.008769</td>\n",
       "    </tr>\n",
       "    <tr>\n",
       "      <th>16382</th>\n",
       "      <td>2.965527</td>\n",
       "      <td>0.360784</td>\n",
       "      <td>0.007904</td>\n",
       "      <td>2.965527</td>\n",
       "      <td>0.482353</td>\n",
       "      <td>0.007904</td>\n",
       "      <td>3.163042</td>\n",
       "      <td>0.564706</td>\n",
       "      <td>0.010784</td>\n",
       "    </tr>\n",
       "    <tr>\n",
       "      <th>16383</th>\n",
       "      <td>2.580462</td>\n",
       "      <td>0.356863</td>\n",
       "      <td>0.006577</td>\n",
       "      <td>2.580462</td>\n",
       "      <td>0.478431</td>\n",
       "      <td>0.006577</td>\n",
       "      <td>2.968919</td>\n",
       "      <td>0.560784</td>\n",
       "      <td>0.006577</td>\n",
       "    </tr>\n",
       "  </tbody>\n",
       "</table>\n",
       "<p>37453824 rows × 9 columns</p>\n",
       "</div>"
      ],
      "text/plain": [
       "       Entropy1  Pixel_Value1  Edge_Sobel1  Entropy2  Pixel_Value2  \\\n",
       "0      2.150295      0.015686     0.002192       NaN           NaN   \n",
       "1      2.285655      0.015686     0.006278       NaN           NaN   \n",
       "2      2.428732      0.007843     0.003535       NaN           NaN   \n",
       "3      2.436959      0.011765     0.003100       NaN           NaN   \n",
       "4      2.449660      0.011765     0.005280       NaN           NaN   \n",
       "...         ...           ...          ...       ...           ...   \n",
       "16379  3.159080      0.356863     0.004902  3.290550      0.478431   \n",
       "16380  3.181933      0.356863     0.005546  3.310884      0.478431   \n",
       "16381  3.122964      0.360784     0.008769  3.116775      0.482353   \n",
       "16382  2.965527      0.360784     0.007904  2.965527      0.482353   \n",
       "16383  2.580462      0.356863     0.006577  2.580462      0.478431   \n",
       "\n",
       "       Edge_Sobel2  Entropy3  Pixel_Value3  Edge_Sobel3  \n",
       "0              NaN       NaN           NaN          NaN  \n",
       "1              NaN       NaN           NaN          NaN  \n",
       "2              NaN       NaN           NaN          NaN  \n",
       "3              NaN       NaN           NaN          NaN  \n",
       "4              NaN       NaN           NaN          NaN  \n",
       "...            ...       ...           ...          ...  \n",
       "16379     0.004902  3.585399      0.568627     0.004902  \n",
       "16380     0.005546  3.573761      0.568627     0.005546  \n",
       "16381     0.008769  3.381577      0.572549     0.008769  \n",
       "16382     0.007904  3.163042      0.564706     0.010784  \n",
       "16383     0.006577  2.968919      0.560784     0.006577  \n",
       "\n",
       "[37453824 rows x 9 columns]"
      ]
     },
     "execution_count": 31,
     "metadata": {},
     "output_type": "execute_result"
    }
   ],
   "source": [
    "image_features"
   ]
  },
  {
   "cell_type": "code",
   "execution_count": 32,
   "metadata": {
    "id": "1n87XW4jbt7m"
   },
   "outputs": [],
   "source": [
    "image_features = image_features.dropna()"
   ]
  },
  {
   "cell_type": "code",
   "execution_count": 33,
   "metadata": {
    "colab": {
     "base_uri": "https://localhost:8080/"
    },
    "id": "0ONDedz1CFGM",
    "outputId": "ff1bdc5a-281b-484e-d139-b02a428e30cc"
   },
   "outputs": [
    {
     "name": "stdout",
     "output_type": "stream",
     "text": [
      "(12484608, 9)\n"
     ]
    }
   ],
   "source": [
    "print(np.shape(image_features))"
   ]
  },
  {
   "cell_type": "code",
   "execution_count": 34,
   "metadata": {
    "id": "dhPisX3YWGwH"
   },
   "outputs": [],
   "source": [
    "#Reshape to a vector for Random Forest / SVM training\n",
    "n_features = image_features.shape[1]\n",
    "image_features = np.expand_dims(image_features, axis=0)\n",
    "X_for_RF = np.reshape(image_features, (x_train.shape[0], -1))  #Reshape to #images, features"
   ]
  },
  {
   "cell_type": "code",
   "execution_count": 35,
   "metadata": {
    "colab": {
     "base_uri": "https://localhost:8080/"
    },
    "id": "rOmGz6T0BIV7",
    "outputId": "dd8dd4a3-3144-4156-acb7-6bc23ffdd616"
   },
   "outputs": [
    {
     "name": "stdout",
     "output_type": "stream",
     "text": [
      "(762, 147456)\n"
     ]
    }
   ],
   "source": [
    "print(np.shape(X_for_RF))"
   ]
  },
  {
   "cell_type": "code",
   "execution_count": 36,
   "metadata": {
    "colab": {
     "base_uri": "https://localhost:8080/"
    },
    "id": "TwNpwfSm-6-2",
    "outputId": "9a8cb757-84b1-4659-eb3b-ece9f8bff4ba"
   },
   "outputs": [
    {
     "name": "stdout",
     "output_type": "stream",
     "text": [
      "(762,)\n"
     ]
    }
   ],
   "source": [
    "print(np.shape(y_train))"
   ]
  },
  {
   "cell_type": "code",
   "execution_count": 37,
   "metadata": {
    "id": "hWNN1SFkWMnI"
   },
   "outputs": [],
   "source": [
    "#Define the classifier\n",
    "from sklearn.ensemble import RandomForestClassifier\n",
    "RF_model = RandomForestClassifier(n_estimators = 50, random_state = 42)\n",
    "\n",
    "#Can also use SVM but RF is faster and may be more accurate.\n",
    "#from sklearn import svm\n",
    "#SVM_model = svm.SVC(decision_function_shape='ovo')  #For multiclass classification\n",
    "#SVM_model.fit(X_for_RF, y_train)"
   ]
  },
  {
   "cell_type": "code",
   "execution_count": 38,
   "metadata": {
    "colab": {
     "base_uri": "https://localhost:8080/"
    },
    "id": "4G8urQSrL72Q",
    "outputId": "752f69e9-aa55-4666-d508-56ed13c0e483"
   },
   "outputs": [
    {
     "data": {
      "text/plain": [
       "RandomForestClassifier(n_estimators=50, random_state=42)"
      ]
     },
     "execution_count": 38,
     "metadata": {},
     "output_type": "execute_result"
    }
   ],
   "source": [
    "# Fit the model on training data\n",
    "RF_model.fit(X_for_RF, y_train) #For sklearn no one hot encoding"
   ]
  },
  {
   "cell_type": "code",
   "execution_count": 39,
   "metadata": {
    "colab": {
     "base_uri": "https://localhost:8080/"
    },
    "id": "9nPMdxjVWQhX",
    "outputId": "fefe6cf2-c9de-46cb-ef1d-51362dc3f275"
   },
   "outputs": [
    {
     "name": "stderr",
     "output_type": "stream",
     "text": [
      "<ipython-input-39-d9f7e095bcb7>:3: UserWarning: Possible precision loss converting image of type float64 to uint8 as required by rank filters. Convert manually using skimage.util.img_as_ubyte to silence this warning.\n",
      "  test_features = feature_extractor(x_test)\n"
     ]
    }
   ],
   "source": [
    "#Predict on Test data\n",
    "#Extract features from test data and reshape, just like training data\n",
    "test_features = feature_extractor(x_test)\n",
    "test_features = test_features.dropna()\n",
    "test_features = np.expand_dims(test_features, axis=0)\n",
    "test_for_RF = np.reshape(test_features, (x_test.shape[0], -1))"
   ]
  },
  {
   "cell_type": "code",
   "execution_count": 40,
   "metadata": {
    "id": "ikZ-96eXMIOQ"
   },
   "outputs": [],
   "source": [
    "#Predict on test\n",
    "test_prediction = RF_model.predict(test_for_RF)\n",
    "#Inverse le transform to get original label back. \n",
    "test_prediction = le.inverse_transform(test_prediction)"
   ]
  },
  {
   "cell_type": "code",
   "execution_count": null,
   "metadata": {
    "colab": {
     "base_uri": "https://localhost:8080/"
    },
    "id": "I7FbrXUQAHFa",
    "outputId": "ff2cda2f-f6e6-422f-e54f-ba8ac481bcc4"
   },
   "outputs": [
    {
     "data": {
      "text/plain": [
       "array(['1', '1', '0', '4', '2', '4', '2', '3', '1', '2', '3', '1', '0',\n",
       "       '1', '4', '0', '4', '4', '3', '0', '0', '3', '0', '4', '3', '0',\n",
       "       '1', '0', '0', '1', '1', '3', '2', '0', '2', '0', '4', '2', '2',\n",
       "       '2', '2', '4', '1', '2', '2', '4', '4', '4', '3', '4', '0', '4',\n",
       "       '4', '2', '2', '3', '0', '1', '2', '0', '0', '3', '1', '4', '2',\n",
       "       '2', '2', '3', '4', '2', '4', '0', '2', '2', '2'], dtype='<U1')"
      ]
     },
     "execution_count": 23,
     "metadata": {},
     "output_type": "execute_result"
    }
   ],
   "source": [
    "#print(np.shape(test_prediction))\n",
    "test_prediction"
   ]
  },
  {
   "cell_type": "code",
   "execution_count": null,
   "metadata": {
    "id": "vBJijrPXazEs"
   },
   "outputs": [],
   "source": [
    "#Predict on Validation data\n",
    "#Extract features from test data and reshape, just like training data\n",
    "validation_features = feature_extractor(x_validation)\n",
    "validation_features = np.expand_dims(validation_features, axis=0)\n",
    "validation_for_RF = np.reshape(validation_features, (x_validation.shape[0], -1))"
   ]
  },
  {
   "cell_type": "code",
   "execution_count": null,
   "metadata": {
    "id": "TcQnJYK6azTB"
   },
   "outputs": [],
   "source": [
    "#Predict on test\n",
    "validation_prediction = RF_model.predict(validation_for_RF)\n",
    "#Inverse le transform to get original label back. \n",
    "validation_prediction = le.inverse_transform(validation_prediction)"
   ]
  },
  {
   "cell_type": "code",
   "execution_count": 41,
   "metadata": {
    "colab": {
     "base_uri": "https://localhost:8080/"
    },
    "id": "L4m0ScEvWr6b",
    "outputId": "bcfde434-3341-48be-ef78-8e08063574e5"
   },
   "outputs": [
    {
     "name": "stdout",
     "output_type": "stream",
     "text": [
      "Accuracy =  0.5792682926829268\n"
     ]
    }
   ],
   "source": [
    "#Print overall accuracy\n",
    "from sklearn import metrics\n",
    "print (\"Accuracy = \", metrics.accuracy_score(test_labels, test_prediction))"
   ]
  },
  {
   "cell_type": "code",
   "execution_count": 42,
   "metadata": {
    "colab": {
     "base_uri": "https://localhost:8080/",
     "height": 398
    },
    "id": "qvbe15EXWvBX",
    "outputId": "f2e476bd-29af-43ec-d260-1482c9dfad64"
   },
   "outputs": [
    {
     "data": {
      "text/plain": [
       "<AxesSubplot:>"
      ]
     },
     "execution_count": 42,
     "metadata": {},
     "output_type": "execute_result"
    },
    {
     "data": {
      "image/png": "[encoded data removed]",
      "text/plain": [
       "<Figure size 432x432 with 2 Axes>"
      ]
     },
     "metadata": {
      "needs_background": "light"
     },
     "output_type": "display_data"
    }
   ],
   "source": [
    "#Print confusion matrix\n",
    "from sklearn.metrics import confusion_matrix\n",
    "cm = confusion_matrix(test_labels, test_prediction)\n",
    "\n",
    "fig, ax = plt.subplots(figsize=(6,6))         # Sample figsize in inches\n",
    "sns.set(font_scale=1.6)\n",
    "sns.heatmap(cm, annot=True, ax=ax)"
   ]
  },
  {
   "cell_type": "code",
   "execution_count": 43,
   "metadata": {
    "colab": {
     "base_uri": "https://localhost:8080/",
     "height": 299
    },
    "id": "Pn-M97qUWxoM",
    "outputId": "a3a2cb69-818a-4a04-e6ae-83f9c33c21b8"
   },
   "outputs": [
    {
     "data": {
      "text/plain": [
       "<matplotlib.image.AxesImage at 0x26d0be1e670>"
      ]
     },
     "execution_count": 43,
     "metadata": {},
     "output_type": "execute_result"
    },
    {
     "data": {
      "image/png": "[encoded data removed]",
      "text/plain": [
       "<Figure size 432x288 with 1 Axes>"
      ]
     },
     "metadata": {},
     "output_type": "display_data"
    }
   ],
   "source": [
    "#Check results on a few random images\n",
    "import random\n",
    "n=random.randint(0, x_test.shape[0]-1) #Select the index of image to be loaded for testing\n",
    "img = x_test[n]\n",
    "plt.imshow(img)"
   ]
  },
  {
   "cell_type": "code",
   "execution_count": 46,
   "metadata": {
    "colab": {
     "base_uri": "https://localhost:8080/"
    },
    "id": "tCMudwJANh5K",
    "outputId": "2e5b8274-e336-4816-a02b-c148dc6c8d0e"
   },
   "outputs": [
    {
     "name": "stderr",
     "output_type": "stream",
     "text": [
      "<ipython-input-46-2f4cdcc01bd1>:3: UserWarning: Possible precision loss converting image of type float64 to uint8 as required by rank filters. Convert manually using skimage.util.img_as_ubyte to silence this warning.\n",
      "  input_img_features = feature_extractor(input_img)\n"
     ]
    },
    {
     "ename": "ValueError",
     "evalue": "Input contains NaN, infinity or a value too large for dtype('float32').",
     "output_type": "error",
     "traceback": [
      "\u001b[1;31m---------------------------------------------------------------------------\u001b[0m",
      "\u001b[1;31mValueError\u001b[0m                                Traceback (most recent call last)",
      "\u001b[1;32m<ipython-input-46-2f4cdcc01bd1>\u001b[0m in \u001b[0;36m<module>\u001b[1;34m\u001b[0m\n\u001b[0;32m      5\u001b[0m \u001b[0minput_img_for_RF\u001b[0m \u001b[1;33m=\u001b[0m \u001b[0mnp\u001b[0m\u001b[1;33m.\u001b[0m\u001b[0mreshape\u001b[0m\u001b[1;33m(\u001b[0m\u001b[0minput_img_features\u001b[0m\u001b[1;33m,\u001b[0m \u001b[1;33m(\u001b[0m\u001b[0minput_img\u001b[0m\u001b[1;33m.\u001b[0m\u001b[0mshape\u001b[0m\u001b[1;33m[\u001b[0m\u001b[1;36m0\u001b[0m\u001b[1;33m]\u001b[0m\u001b[1;33m,\u001b[0m \u001b[1;33m-\u001b[0m\u001b[1;36m1\u001b[0m\u001b[1;33m)\u001b[0m\u001b[1;33m)\u001b[0m\u001b[1;33m\u001b[0m\u001b[1;33m\u001b[0m\u001b[0m\n\u001b[0;32m      6\u001b[0m \u001b[1;31m#Predict\u001b[0m\u001b[1;33m\u001b[0m\u001b[1;33m\u001b[0m\u001b[1;33m\u001b[0m\u001b[0m\n\u001b[1;32m----> 7\u001b[1;33m \u001b[0mimg_prediction\u001b[0m \u001b[1;33m=\u001b[0m \u001b[0mRF_model\u001b[0m\u001b[1;33m.\u001b[0m\u001b[0mpredict\u001b[0m\u001b[1;33m(\u001b[0m\u001b[0minput_img_for_RF\u001b[0m\u001b[1;33m)\u001b[0m\u001b[1;33m\u001b[0m\u001b[1;33m\u001b[0m\u001b[0m\n\u001b[0m\u001b[0;32m      8\u001b[0m \u001b[0mimg_prediction\u001b[0m \u001b[1;33m=\u001b[0m \u001b[0mle\u001b[0m\u001b[1;33m.\u001b[0m\u001b[0minverse_transform\u001b[0m\u001b[1;33m(\u001b[0m\u001b[1;33m[\u001b[0m\u001b[0mimg_prediction\u001b[0m\u001b[1;33m]\u001b[0m\u001b[1;33m)\u001b[0m  \u001b[1;31m#Reverse the label encoder to original name\u001b[0m\u001b[1;33m\u001b[0m\u001b[1;33m\u001b[0m\u001b[0m\n\u001b[0;32m      9\u001b[0m \u001b[0mprint\u001b[0m\u001b[1;33m(\u001b[0m\u001b[1;34m\"The prediction for this image is: \"\u001b[0m\u001b[1;33m,\u001b[0m \u001b[0mimg_prediction\u001b[0m\u001b[1;33m)\u001b[0m\u001b[1;33m\u001b[0m\u001b[1;33m\u001b[0m\u001b[0m\n",
      "\u001b[1;32m~\\anaconda3\\lib\\site-packages\\sklearn\\ensemble\\_forest.py\u001b[0m in \u001b[0;36mpredict\u001b[1;34m(self, X)\u001b[0m\n\u001b[0;32m    628\u001b[0m             \u001b[0mThe\u001b[0m \u001b[0mpredicted\u001b[0m \u001b[0mclasses\u001b[0m\u001b[1;33m.\u001b[0m\u001b[1;33m\u001b[0m\u001b[1;33m\u001b[0m\u001b[0m\n\u001b[0;32m    629\u001b[0m         \"\"\"\n\u001b[1;32m--> 630\u001b[1;33m         \u001b[0mproba\u001b[0m \u001b[1;33m=\u001b[0m \u001b[0mself\u001b[0m\u001b[1;33m.\u001b[0m\u001b[0mpredict_proba\u001b[0m\u001b[1;33m(\u001b[0m\u001b[0mX\u001b[0m\u001b[1;33m)\u001b[0m\u001b[1;33m\u001b[0m\u001b[1;33m\u001b[0m\u001b[0m\n\u001b[0m\u001b[0;32m    631\u001b[0m \u001b[1;33m\u001b[0m\u001b[0m\n\u001b[0;32m    632\u001b[0m         \u001b[1;32mif\u001b[0m \u001b[0mself\u001b[0m\u001b[1;33m.\u001b[0m\u001b[0mn_outputs_\u001b[0m \u001b[1;33m==\u001b[0m \u001b[1;36m1\u001b[0m\u001b[1;33m:\u001b[0m\u001b[1;33m\u001b[0m\u001b[1;33m\u001b[0m\u001b[0m\n",
      "\u001b[1;32m~\\anaconda3\\lib\\site-packages\\sklearn\\ensemble\\_forest.py\u001b[0m in \u001b[0;36mpredict_proba\u001b[1;34m(self, X)\u001b[0m\n\u001b[0;32m    672\u001b[0m         \u001b[0mcheck_is_fitted\u001b[0m\u001b[1;33m(\u001b[0m\u001b[0mself\u001b[0m\u001b[1;33m)\u001b[0m\u001b[1;33m\u001b[0m\u001b[1;33m\u001b[0m\u001b[0m\n\u001b[0;32m    673\u001b[0m         \u001b[1;31m# Check data\u001b[0m\u001b[1;33m\u001b[0m\u001b[1;33m\u001b[0m\u001b[1;33m\u001b[0m\u001b[0m\n\u001b[1;32m--> 674\u001b[1;33m         \u001b[0mX\u001b[0m \u001b[1;33m=\u001b[0m \u001b[0mself\u001b[0m\u001b[1;33m.\u001b[0m\u001b[0m_validate_X_predict\u001b[0m\u001b[1;33m(\u001b[0m\u001b[0mX\u001b[0m\u001b[1;33m)\u001b[0m\u001b[1;33m\u001b[0m\u001b[1;33m\u001b[0m\u001b[0m\n\u001b[0m\u001b[0;32m    675\u001b[0m \u001b[1;33m\u001b[0m\u001b[0m\n\u001b[0;32m    676\u001b[0m         \u001b[1;31m# Assign chunk of trees to jobs\u001b[0m\u001b[1;33m\u001b[0m\u001b[1;33m\u001b[0m\u001b[1;33m\u001b[0m\u001b[0m\n",
      "\u001b[1;32m~\\anaconda3\\lib\\site-packages\\sklearn\\ensemble\\_forest.py\u001b[0m in \u001b[0;36m_validate_X_predict\u001b[1;34m(self, X)\u001b[0m\n\u001b[0;32m    420\u001b[0m         \u001b[0mcheck_is_fitted\u001b[0m\u001b[1;33m(\u001b[0m\u001b[0mself\u001b[0m\u001b[1;33m)\u001b[0m\u001b[1;33m\u001b[0m\u001b[1;33m\u001b[0m\u001b[0m\n\u001b[0;32m    421\u001b[0m \u001b[1;33m\u001b[0m\u001b[0m\n\u001b[1;32m--> 422\u001b[1;33m         \u001b[1;32mreturn\u001b[0m \u001b[0mself\u001b[0m\u001b[1;33m.\u001b[0m\u001b[0mestimators_\u001b[0m\u001b[1;33m[\u001b[0m\u001b[1;36m0\u001b[0m\u001b[1;33m]\u001b[0m\u001b[1;33m.\u001b[0m\u001b[0m_validate_X_predict\u001b[0m\u001b[1;33m(\u001b[0m\u001b[0mX\u001b[0m\u001b[1;33m,\u001b[0m \u001b[0mcheck_input\u001b[0m\u001b[1;33m=\u001b[0m\u001b[1;32mTrue\u001b[0m\u001b[1;33m)\u001b[0m\u001b[1;33m\u001b[0m\u001b[1;33m\u001b[0m\u001b[0m\n\u001b[0m\u001b[0;32m    423\u001b[0m \u001b[1;33m\u001b[0m\u001b[0m\n\u001b[0;32m    424\u001b[0m     \u001b[1;33m@\u001b[0m\u001b[0mproperty\u001b[0m\u001b[1;33m\u001b[0m\u001b[1;33m\u001b[0m\u001b[0m\n",
      "\u001b[1;32m~\\anaconda3\\lib\\site-packages\\sklearn\\tree\\_classes.py\u001b[0m in \u001b[0;36m_validate_X_predict\u001b[1;34m(self, X, check_input)\u001b[0m\n\u001b[0;32m    400\u001b[0m         \u001b[1;34m\"\"\"Validate the training data on predict (probabilities).\"\"\"\u001b[0m\u001b[1;33m\u001b[0m\u001b[1;33m\u001b[0m\u001b[0m\n\u001b[0;32m    401\u001b[0m         \u001b[1;32mif\u001b[0m \u001b[0mcheck_input\u001b[0m\u001b[1;33m:\u001b[0m\u001b[1;33m\u001b[0m\u001b[1;33m\u001b[0m\u001b[0m\n\u001b[1;32m--> 402\u001b[1;33m             X = self._validate_data(X, dtype=DTYPE, accept_sparse=\"csr\",\n\u001b[0m\u001b[0;32m    403\u001b[0m                                     reset=False)\n\u001b[0;32m    404\u001b[0m             if issparse(X) and (X.indices.dtype != np.intc or\n",
      "\u001b[1;32m~\\anaconda3\\lib\\site-packages\\sklearn\\base.py\u001b[0m in \u001b[0;36m_validate_data\u001b[1;34m(self, X, y, reset, validate_separately, **check_params)\u001b[0m\n\u001b[0;32m    419\u001b[0m             \u001b[0mout\u001b[0m \u001b[1;33m=\u001b[0m \u001b[0mX\u001b[0m\u001b[1;33m\u001b[0m\u001b[1;33m\u001b[0m\u001b[0m\n\u001b[0;32m    420\u001b[0m         \u001b[1;32melif\u001b[0m \u001b[0misinstance\u001b[0m\u001b[1;33m(\u001b[0m\u001b[0my\u001b[0m\u001b[1;33m,\u001b[0m \u001b[0mstr\u001b[0m\u001b[1;33m)\u001b[0m \u001b[1;32mand\u001b[0m \u001b[0my\u001b[0m \u001b[1;33m==\u001b[0m \u001b[1;34m'no_validation'\u001b[0m\u001b[1;33m:\u001b[0m\u001b[1;33m\u001b[0m\u001b[1;33m\u001b[0m\u001b[0m\n\u001b[1;32m--> 421\u001b[1;33m             \u001b[0mX\u001b[0m \u001b[1;33m=\u001b[0m \u001b[0mcheck_array\u001b[0m\u001b[1;33m(\u001b[0m\u001b[0mX\u001b[0m\u001b[1;33m,\u001b[0m \u001b[1;33m**\u001b[0m\u001b[0mcheck_params\u001b[0m\u001b[1;33m)\u001b[0m\u001b[1;33m\u001b[0m\u001b[1;33m\u001b[0m\u001b[0m\n\u001b[0m\u001b[0;32m    422\u001b[0m             \u001b[0mout\u001b[0m \u001b[1;33m=\u001b[0m \u001b[0mX\u001b[0m\u001b[1;33m\u001b[0m\u001b[1;33m\u001b[0m\u001b[0m\n\u001b[0;32m    423\u001b[0m         \u001b[1;32melse\u001b[0m\u001b[1;33m:\u001b[0m\u001b[1;33m\u001b[0m\u001b[1;33m\u001b[0m\u001b[0m\n",
      "\u001b[1;32m~\\anaconda3\\lib\\site-packages\\sklearn\\utils\\validation.py\u001b[0m in \u001b[0;36minner_f\u001b[1;34m(*args, **kwargs)\u001b[0m\n\u001b[0;32m     61\u001b[0m             \u001b[0mextra_args\u001b[0m \u001b[1;33m=\u001b[0m \u001b[0mlen\u001b[0m\u001b[1;33m(\u001b[0m\u001b[0margs\u001b[0m\u001b[1;33m)\u001b[0m \u001b[1;33m-\u001b[0m \u001b[0mlen\u001b[0m\u001b[1;33m(\u001b[0m\u001b[0mall_args\u001b[0m\u001b[1;33m)\u001b[0m\u001b[1;33m\u001b[0m\u001b[1;33m\u001b[0m\u001b[0m\n\u001b[0;32m     62\u001b[0m             \u001b[1;32mif\u001b[0m \u001b[0mextra_args\u001b[0m \u001b[1;33m<=\u001b[0m \u001b[1;36m0\u001b[0m\u001b[1;33m:\u001b[0m\u001b[1;33m\u001b[0m\u001b[1;33m\u001b[0m\u001b[0m\n\u001b[1;32m---> 63\u001b[1;33m                 \u001b[1;32mreturn\u001b[0m \u001b[0mf\u001b[0m\u001b[1;33m(\u001b[0m\u001b[1;33m*\u001b[0m\u001b[0margs\u001b[0m\u001b[1;33m,\u001b[0m \u001b[1;33m**\u001b[0m\u001b[0mkwargs\u001b[0m\u001b[1;33m)\u001b[0m\u001b[1;33m\u001b[0m\u001b[1;33m\u001b[0m\u001b[0m\n\u001b[0m\u001b[0;32m     64\u001b[0m \u001b[1;33m\u001b[0m\u001b[0m\n\u001b[0;32m     65\u001b[0m             \u001b[1;31m# extra_args > 0\u001b[0m\u001b[1;33m\u001b[0m\u001b[1;33m\u001b[0m\u001b[1;33m\u001b[0m\u001b[0m\n",
      "\u001b[1;32m~\\anaconda3\\lib\\site-packages\\sklearn\\utils\\validation.py\u001b[0m in \u001b[0;36mcheck_array\u001b[1;34m(array, accept_sparse, accept_large_sparse, dtype, order, copy, force_all_finite, ensure_2d, allow_nd, ensure_min_samples, ensure_min_features, estimator)\u001b[0m\n\u001b[0;32m    661\u001b[0m \u001b[1;33m\u001b[0m\u001b[0m\n\u001b[0;32m    662\u001b[0m         \u001b[1;32mif\u001b[0m \u001b[0mforce_all_finite\u001b[0m\u001b[1;33m:\u001b[0m\u001b[1;33m\u001b[0m\u001b[1;33m\u001b[0m\u001b[0m\n\u001b[1;32m--> 663\u001b[1;33m             _assert_all_finite(array,\n\u001b[0m\u001b[0;32m    664\u001b[0m                                allow_nan=force_all_finite == 'allow-nan')\n\u001b[0;32m    665\u001b[0m \u001b[1;33m\u001b[0m\u001b[0m\n",
      "\u001b[1;32m~\\anaconda3\\lib\\site-packages\\sklearn\\utils\\validation.py\u001b[0m in \u001b[0;36m_assert_all_finite\u001b[1;34m(X, allow_nan, msg_dtype)\u001b[0m\n\u001b[0;32m    101\u001b[0m                 not allow_nan and not np.isfinite(X).all()):\n\u001b[0;32m    102\u001b[0m             \u001b[0mtype_err\u001b[0m \u001b[1;33m=\u001b[0m \u001b[1;34m'infinity'\u001b[0m \u001b[1;32mif\u001b[0m \u001b[0mallow_nan\u001b[0m \u001b[1;32melse\u001b[0m \u001b[1;34m'NaN, infinity'\u001b[0m\u001b[1;33m\u001b[0m\u001b[1;33m\u001b[0m\u001b[0m\n\u001b[1;32m--> 103\u001b[1;33m             raise ValueError(\n\u001b[0m\u001b[0;32m    104\u001b[0m                     \u001b[0mmsg_err\u001b[0m\u001b[1;33m.\u001b[0m\u001b[0mformat\u001b[0m\u001b[1;33m\u001b[0m\u001b[1;33m\u001b[0m\u001b[0m\n\u001b[0;32m    105\u001b[0m                     (type_err,\n",
      "\u001b[1;31mValueError\u001b[0m: Input contains NaN, infinity or a value too large for dtype('float32')."
     ]
    }
   ],
   "source": [
    "#Extract features and reshape to right dimensions\n",
    "input_img = np.expand_dims(img, axis=0) #Expand dims so the input is (num images, x, y, c)\n",
    "input_img_features = feature_extractor(input_img)\n",
    "input_img_features = np.expand_dims(input_img_features, axis=0)\n",
    "input_img_for_RF = np.reshape(input_img_features, (input_img.shape[0], -1))\n",
    "#Predict\n",
    "img_prediction = RF_model.predict(input_img_for_RF)\n",
    "img_prediction = le.inverse_transform([img_prediction])  #Reverse the label encoder to original name\n",
    "print(\"The prediction for this image is: \", img_prediction)\n",
    "print(\"The actual label for this image is: \", test_labels[n])"
   ]
  },
  {
   "cell_type": "code",
   "execution_count": null,
   "metadata": {},
   "outputs": [],
   "source": []
  }
 ],
 "metadata": {
  "colab": {
   "name": "random_forest.ipynb",
   "provenance": []
  },
  "kernelspec": {
   "display_name": "Python 3 (ipykernel)",
   "language": "python",
   "name": "python3"
  },
  "language_info": {
   "codemirror_mode": {
    "name": "ipython",
    "version": 3
   },
   "file_extension": ".py",
   "mimetype": "text/x-python",
   "name": "python",
   "nbconvert_exporter": "python",
   "pygments_lexer": "ipython3",
   "version": "3.9.12"
  }
 },
 "nbformat": 4,
 "nbformat_minor": 1
}
